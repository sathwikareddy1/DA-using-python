{
  "nbformat": 4,
  "nbformat_minor": 0,
  "metadata": {
    "colab": {
      "provenance": [],
      "authorship_tag": "ABX9TyOeSdPdGxIDFcvKLDciI+Zh",
      "include_colab_link": true
    },
    "kernelspec": {
      "name": "python3",
      "display_name": "Python 3"
    },
    "language_info": {
      "name": "python"
    }
  },
  "cells": [
    {
      "cell_type": "markdown",
      "metadata": {
        "id": "view-in-github",
        "colab_type": "text"
      },
      "source": [
        "<a href=\"https://colab.research.google.com/github/sathwikareddy1/DA-using-python/blob/main/2203a52183_lab6.ipynb\" target=\"_parent\"><img src=\"https://colab.research.google.com/assets/colab-badge.svg\" alt=\"Open In Colab\"/></a>"
      ]
    },
    {
      "source": [
        "import pandas as pd\n",
        "\n",
        "# Load the dataset\n",
        "data = pd.read_csv('/content/supermarket_sales -.csv')\n",
        "\n",
        "# Define events\n",
        "event_A = data['Customer type'] == 'Member'  # Transaction by a Member customer\n",
        "event_B = data['Payment'] == 'Credit card'   # Transaction using Credit Card\n",
        "\n",
        "# Calculate probabilities\n",
        "P_A = event_A.sum() / len(data)  # P(A)\n",
        "P_B = event_B.sum() / len(data)  # P(B)\n",
        "P_A_and_B = (event_A & event_B).sum() / len(data)  # P(A ∩ B)\n",
        "P_A_or_B = P_A + P_B - P_A_and_B  # P(A ∪ B)\n",
        "P_A_given_B = P_A_and_B / P_B  # P(A | B)\n",
        "\n",
        "# Print the results\n",
        "print(f\"P(A): {P_A}\")\n",
        "print(f\"P(B): {P_B}\")\n",
        "print(f\"P(A ∪ B): {P_A_or_B}\")\n",
        "print(f\"P(A ∩ B): {P_A_and_B}\")\n",
        "print(f\"P(A | B): {P_A_given_B}\")\n",
        "\n",
        "# Probability of Health & Beauty product line\n",
        "health_beauty_prob = (data['Product line'] == 'Health and beauty').sum() / len(data)\n",
        "print(f\"Probability of Health & Beauty product line: {health_beauty_prob}\")\n",
        "\n",
        "# Probability of purchasing more than 5 items given Ewallet payment\n",
        "ewallet_transactions = data[data['Payment'] == 'Ewallet']\n",
        "prob_more_than_5_given_ewallet = (ewallet_transactions['Quantity'] > 5).sum() / len(ewallet_transactions)\n",
        "print(f\"Probability of purchasing more than 5 items given Ewallet: {prob_more_than_5_given_ewallet}\")\n",
        "\n",
        "# Probability of Cash payment in Yangon\n",
        "yangon_transactions = data[data['City'] == 'Yangon']\n",
        "prob_cash_yangon = (yangon_transactions['Payment'] == 'Cash').sum() / len(yangon_transactions)\n",
        "print(f\"Probability of Cash payment in Yangon: {prob_cash_yangon}\")\n",
        "\n",
        "# Probability of Member customer with rating above 8\n",
        "member_rating_above_8_prob = (data[(data['Customer type'] == 'Member') & (data['Rating'] > 8)]).shape[0] / len(data)\n",
        "print(f\"Probability of Member customer with rating above 8: {member_rating_above_8_prob}\")"
      ],
      "cell_type": "code",
      "metadata": {
        "colab": {
          "base_uri": "https://localhost:8080/"
        },
        "id": "_bHEXbK4l84u",
        "outputId": "6154d459-a005-4498-a65e-c2b5dcff7cef"
      },
      "execution_count": null,
      "outputs": [
        {
          "output_type": "stream",
          "name": "stdout",
          "text": [
            "P(A): 0.501\n",
            "P(B): 0.311\n",
            "P(A ∪ B): 0.6400000000000001\n",
            "P(A ∩ B): 0.172\n",
            "P(A | B): 0.5530546623794211\n",
            "Probability of Health & Beauty product line: 0.152\n",
            "Probability of purchasing more than 5 items given Ewallet: 0.48695652173913045\n",
            "Probability of Cash payment in Yangon: 0.3235294117647059\n",
            "Probability of Member customer with rating above 8: 0.157\n"
          ]
        }
      ]
    },
    {
      "cell_type": "code",
      "source": [],
      "metadata": {
        "id": "NBvbSDSPv5Lk"
      },
      "execution_count": null,
      "outputs": []
    },
    {
      "source": [
        "import math\n",
        "import pandas as pd\n",
        "\n",
        "def factorial(n):\n",
        "  \"\"\"Calculates the factorial of a number.\"\"\"\n",
        "  if n == 0:\n",
        "    return 1\n",
        "  else:\n",
        "    return math.factorial(n)\n",
        "\n",
        "def permutations(n, r):\n",
        "  \"\"\"Calculates the number of permutations.\"\"\"\n",
        "  return factorial(n) // factorial(n - r)\n",
        "\n",
        "def combinations(n, r):\n",
        "  \"\"\"Calculates the number of combinations.\"\"\"\n",
        "  return factorial(n) // (factorial(r) * factorial(n - r))\n",
        "data = pd.read_csv('supermarket_sales -.csv')\n",
        "# 1. Permutation: 5 transactions from 20\n",
        "n_transactions = 20\n",
        "r_transactions = 5\n",
        "permutation_transactions = permutations(n_transactions, r_transactions)\n",
        "print(f\"Ways to arrange 5 transactions from 20: {permutation_transactions}\")\n",
        "\n",
        "# 2. Combination: 3 product lines from 6\n",
        "n_product_lines = 6\n",
        "r_product_lines = 3\n",
        "combination_product_lines = combinations(n_product_lines, r_product_lines)\n",
        "print(f\"Ways to select 3 product lines from 6: {combination_product_lines}\")\n",
        "\n",
        "# 3. Factorial: Total number of different branches in the dataset\n",
        "total_branches = data['Branch'].nunique()\n",
        "factorial_branches = factorial(total_branches)\n",
        "print(f\"Factorial of total branches: {factorial_branches}\")\n",
        "\n",
        "# 4. Permutation: 4 payment methods from 3 (with repetition allowed)\n",
        "n_payment_methods = 3\n",
        "r_payment_methods = 4\n",
        "# Since repetition is allowed, we use n^r:\n",
        "permutation_payment_methods = n_payment_methods ** r_payment_methods\n",
        "print(f\"Ways to display 4 payment methods from 3 (with repetition): {permutation_payment_methods}\")\n",
        "\n",
        "# 5. Combination: 5 employees from 15\n",
        "n_employees = 15\n",
        "r_employees = 5\n",
        "combination_employees = combinations(n_employees, r_employees)\n",
        "print(f\"Ways to select 5 employees from 15: {combination_employees}\")\n",
        "\n",
        "# 6. Permutation: 6 letters from 26 (English alphabet) with repetition\n",
        "n_letters = 26\n",
        "r_letters = 6\n",
        "# Permutations with repetition (since letters can be repeated):\n",
        "permutation_letters = n_letters ** r_letters\n",
        "print(f\"Ways to create 6-letter codes: {permutation_letters}\")"
      ],
      "cell_type": "code",
      "metadata": {
        "colab": {
          "base_uri": "https://localhost:8080/"
        },
        "id": "YHRE4tcKm-1D",
        "outputId": "896972df-f3f1-4549-f614-e7c58bb3927e"
      },
      "execution_count": null,
      "outputs": [
        {
          "output_type": "stream",
          "name": "stdout",
          "text": [
            "Ways to arrange 5 transactions from 20: 1860480\n",
            "Ways to select 3 product lines from 6: 20\n",
            "Factorial of total branches: 6\n",
            "Ways to display 4 payment methods from 3 (with repetition): 81\n",
            "Ways to select 5 employees from 15: 3003\n",
            "Ways to create 6-letter codes: 308915776\n"
          ]
        }
      ]
    }
  ]
}